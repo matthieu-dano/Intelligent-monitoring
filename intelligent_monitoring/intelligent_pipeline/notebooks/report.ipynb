{
 "cells": [
  {
   "cell_type": "code",
   "execution_count": 1,
   "metadata": {
    "ExecuteTime": {
     "end_time": "2024-07-15T13:25:25.324134Z",
     "start_time": "2024-07-15T13:25:24.039704Z"
    },
    "jupyter": {
     "source_hidden": true
    },
    "tags": []
   },
   "outputs": [],
   "source": [
    "import matplotlib.pyplot as plt\n",
    "from sklearn.metrics import mean_squared_error\n",
    "import numpy as np\n",
    "import time\n",
    "import json\n",
    "import sys"
   ]
  },
  {
   "cell_type": "code",
   "execution_count": 1,
   "metadata": {
    "jupyter": {
     "source_hidden": true
    },
    "tags": []
   },
   "outputs": [],
   "source": [
    "import dagstermill\n",
    "\n",
    "context = dagstermill.get_context()\n",
    "\n",
    "date = context.op_config[\"date\"]\n",
    "metric = context.op_config[\"metric\"][0]\n",
    "notebook_name = context.op_config[\"notebook_name\"]\n",
    "tag = context.op_config[\"tag\"]\n",
    "\n",
    "checkpoint = context.resources.checkpoint\n",
    "skyminer_api = context.resources.skyminer_api\n",
    "\n",
    "start_absolute = checkpoint.get(notebook_name, metric, tag=tag)"
   ]
  },
  {
   "cell_type": "code",
   "execution_count": null,
   "metadata": {
    "collapsed": false
   },
   "outputs": [],
   "source": [
    "def generate_query(metrics, start_absolute, end_absolute=\"\", tag={}):\n",
    "    metrics_part = []  # Initialize the metrics_part as a list\n",
    "    tags_name = list(tag.keys())  # Get the list of tag names\n",
    "\n",
    "    # Iterate through each metric and format it into the metrics_part\n",
    "    for metric in metrics:\n",
    "        metric_dict = {\n",
    "            \"name\": metric\n",
    "        }\n",
    "        if tags_name:\n",
    "            metric_dict[\"tags\"] = {key: [tag[key]] for key in tags_name}\n",
    "        metrics_part.append(metric_dict)\n",
    "\n",
    "    # Construct the query dictionary based on whether end_absolute is provided\n",
    "    query_dict = {\n",
    "        \"metrics\": metrics_part,\n",
    "        \"time_zone\": \"UCT\",\n",
    "        \"start_absolute\": start_absolute\n",
    "    }\n",
    "    if end_absolute:\n",
    "        query_dict[\"end_absolute\"] = end_absolute\n",
    "\n",
    "    # Convert the query dictionary to a formatted JSON string\n",
    "    query = json.dumps(query_dict, indent=4)\n",
    "\n",
    "    return query"
   ]
  },
  {
   "cell_type": "code",
   "execution_count": null,
   "metadata": {
    "jupyter": {
     "source_hidden": true
    },
    "tags": []
   },
   "outputs": [],
   "source": [
    "metrics  = [metric, metric+\".prediction_ML_dagster\", metric+\".prediction_ML_LB_dagster\", metric+\".prediction_ML_UB_dagster\"]\n",
    "skyminer_query = generate_query(metrics, start_absolute=(time.time()-3600*24)*1000, tag=tag)\n"
   ]
  },
  {
   "cell_type": "code",
   "execution_count": null,
   "metadata": {
    "jupyter": {
     "source_hidden": true
    },
    "tags": []
   },
   "outputs": [],
   "source": [
    "df = skyminer_api.get_data(skyminer_query, \"ONE_ROW_PER_TIMESTAMP\")\n",
    "data = df.copy()\n",
    "data = data.resample(\"10s\").first().bfill().ffill()\n",
    "if metric+'.prediction_ML_dagster' in data.columns :\n",
    "    data['anomaly'] = np.where((data[metric] < data[metric+\".prediction_ML_LB_dagster\"]) | (data[metric] > data[metric+\".prediction_ML_UB_dagster\"]),\n",
    "                               data[metric], np.nan)\n",
    "else :\n",
    "    sys.exit('No data available for the previous day')"
   ]
  },
  {
   "cell_type": "code",
   "execution_count": null,
   "metadata": {
    "jupyter": {
     "source_hidden": true
    },
    "tags": []
   },
   "outputs": [],
   "source": [
    "fig, ax = plt.subplots(figsize=(10, 6))\n",
    "\n",
    "ax.plot(data.index, data[metric], label='metric', color='blue')\n",
    "ax.plot(data.index, data[metric + '.prediction_ML_dagster'], label='prediction', color='red')\n",
    "\n",
    "ax.fill_between(data.index, data[metric + '.prediction_ML_UB_dagster'], data[metric + '.prediction_ML_LB_dagster'],\n",
    "                color='green', alpha=0.2, label='Confidence Interval')\n",
    "ax.plot(data.index, data[metric + '.prediction_ML_UB_dagster'], color='green', linestyle='--')\n",
    "ax.plot(data.index, data[metric + '.prediction_ML_LB_dagster'], color='green', linestyle='--')\n",
    "\n",
    "ax.scatter(data.index[data['anomaly'] == 1], data[metric][data['anomaly'] == 1],\n",
    "           color='red', label='Anomalies', s=80)\n",
    "\n",
    "ax.set_title('Predictions and confidence interval with Anomalies')\n",
    "ax.set_xlabel('Index')\n",
    "ax.set_ylabel('Valeurs')\n",
    "ax.legend(title='Légende')\n",
    "\n",
    "plt.tight_layout(pad=3.0)  \n",
    "\n",
    "plt.show()"
   ]
  },
  {
   "cell_type": "code",
   "execution_count": null,
   "metadata": {
    "jupyter": {
     "source_hidden": true
    },
    "tags": []
   },
   "outputs": [],
   "source": [
    "num_anomalies = data['anomaly'].count()\n",
    "print(f\"Number of anomalies on the last day : {num_anomalies}\")\n",
    "def calculate_smape(y_true, y_pred):\n",
    "    numerator = np.abs(y_true - y_pred)\n",
    "    denominator = (np.abs(y_true) + np.abs(y_pred)) / 2\n",
    "    smape = np.mean(numerator / denominator) * 100\n",
    "    return smape\n",
    "\n",
    "def calculate_rmse(y_true, y_pred):\n",
    "    rmse = np.sqrt(mean_squared_error(y_true, y_pred))\n",
    "    return rmse\n",
    "\n",
    "y_true = data[metric]  \n",
    "y_pred = data[metric + \".prediction_ML_dagster\"] \n",
    "\n",
    "smape_score = calculate_smape(y_true, y_pred)\n",
    "rmse_score = calculate_rmse(y_true, y_pred)\n",
    "\n",
    "print(f\"Average percentage error (SMAPE) : {smape_score}%\")\n",
    "print(f\"RMSE score : {round(rmse_score,3)}\")"
   ]
  }
 ],
 "metadata": {
  "kernelspec": {
   "display_name": "Python 3 (ipykernel)",
   "language": "python",
   "name": "python3"
  },
  "language_info": {
   "codemirror_mode": {
    "name": "ipython",
    "version": 3
   },
   "file_extension": ".py",
   "mimetype": "text/x-python",
   "name": "python",
   "nbconvert_exporter": "python",
   "pygments_lexer": "ipython3",
   "version": "3.12.3"
  }
 },
 "nbformat": 4,
 "nbformat_minor": 4
}
